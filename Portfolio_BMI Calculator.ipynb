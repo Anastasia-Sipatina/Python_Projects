{
 "cells": [
  {
   "cell_type": "markdown",
   "id": "bcc6a95c",
   "metadata": {},
   "source": [
    "# Body Mass Index Calculator"
   ]
  },
  {
   "cell_type": "code",
   "execution_count": null,
   "id": "2774d58a",
   "metadata": {},
   "outputs": [],
   "source": [
    "#вес (в килограммах) / рост (в метрах)*рост (в метрах)"
   ]
  },
  {
   "cell_type": "code",
   "execution_count": 2,
   "id": "57b51dc0",
   "metadata": {},
   "outputs": [
    {
     "name": "stdout",
     "output_type": "stream",
     "text": [
      "Enter yout name: Nastya\n",
      "Enter your weight in kg: 59\n",
      "Enter your height in meters: 1.60\n",
      "23.046874999999996\n",
      "Nastya, you are normal weight.\n"
     ]
    }
   ],
   "source": [
    "name=input(\"Enter yout name: \")\n",
    "weight=int(input(\"Enter your weight in kg: \"))\n",
    "height=float(input(\"Enter your height in meters: \"))\n",
    "\n",
    "BMI=weight/(height*height)\n",
    "print(BMI)\n",
    "\n",
    "if BMI>0:\n",
    "    if(BMI<18.5):\n",
    "        print(name +\", you are underweight.\")\n",
    "    elif(BMI<=24.9):\n",
    "        print(name +\", you are normal weight.\")\n",
    "    elif(BMI<29.9):\n",
    "        print(name +\", you are overweight.\")\n",
    "    elif(BMI<34.9):\n",
    "        print(name +\", you are obese.\")\n",
    "    elif(BMI<39.9):\n",
    "        print(name +\", you are severely obese.\")\n",
    "    else:\n",
    "        print(name +\", you are morbidly obese\")\n",
    "else:\n",
    "    print(\"Enter valid input\")"
   ]
  },
  {
   "cell_type": "code",
   "execution_count": null,
   "id": "201ef146",
   "metadata": {},
   "outputs": [],
   "source": []
  },
  {
   "cell_type": "code",
   "execution_count": null,
   "id": "d39a1399",
   "metadata": {},
   "outputs": [],
   "source": []
  },
  {
   "cell_type": "code",
   "execution_count": null,
   "id": "0220c6b1",
   "metadata": {},
   "outputs": [],
   "source": []
  },
  {
   "cell_type": "code",
   "execution_count": null,
   "id": "d2eeb540",
   "metadata": {},
   "outputs": [],
   "source": []
  },
  {
   "cell_type": "code",
   "execution_count": null,
   "id": "4806324a",
   "metadata": {},
   "outputs": [],
   "source": []
  }
 ],
 "metadata": {
  "kernelspec": {
   "display_name": "Python 3 (ipykernel)",
   "language": "python",
   "name": "python3"
  },
  "language_info": {
   "codemirror_mode": {
    "name": "ipython",
    "version": 3
   },
   "file_extension": ".py",
   "mimetype": "text/x-python",
   "name": "python",
   "nbconvert_exporter": "python",
   "pygments_lexer": "ipython3",
   "version": "3.11.4"
  }
 },
 "nbformat": 4,
 "nbformat_minor": 5
}
