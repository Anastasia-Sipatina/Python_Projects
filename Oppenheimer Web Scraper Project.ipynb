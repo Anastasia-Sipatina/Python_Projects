{
 "cells": [
  {
   "cell_type": "code",
   "execution_count": 38,
   "id": "2261d0d6",
   "metadata": {},
   "outputs": [],
   "source": [
    "#import libraries\n",
    "from bs4 import BeautifulSoup\n",
    "import requests\n",
    "import smtplib\n",
    "import time\n",
    "import datetime"
   ]
  },
  {
   "cell_type": "code",
   "execution_count": 39,
   "id": "350f7230",
   "metadata": {},
   "outputs": [
    {
     "name": "stdout",
     "output_type": "stream",
     "text": [
      "Оппенгеймер(фильм,2023)\n",
      "2023, биографический, драма, исторический, США, Великобритания\n",
      "8.6 (IMDb)\n",
      "Кристофер Нолан\n",
      "$432 600 000 (мир), $285 230 000 (США)\n",
      "Сюжет фильма развернётся в годы Второй мировой войны. Он сконцентрируется на Роберте Оппенгеймере и его роли в разработке атомной бомбы. За основу сценария взята книга «Американский Прометей: триумф и трагедия Дж. Роберта Оппенгеймера», написанная Каем Бёрдом и Мартином Шервином.\n",
      "Самый продолжительный фильм в карьере Кристофера Нолана и первый за 20 лет с возрастным рейтингом R (до 17 лет обязательно присутствие взрослого).\n"
     ]
    }
   ],
   "source": [
    "#Connect to website\n",
    "URL = 'https://www.film.ru/movies/oppengeymer'\n",
    "\n",
    "headers = {\"User-Agent\": \"Mozilla/5.0 (Windows NT 10.0; Win64; x64) AppleWebKit/537.36 (KHTML, like Gecko) Chrome/116.0.0.0 Safari/537.36\", \"Accept-Encoding\":\"gzip, deflate, br\", \"Accept\":\"text/html,application/xhtml+xml,application/xml;q=0.9,image/avif,image/webp,image/apng,*/*;q=0.8,application/signed-exchange;v=b3;q=0.7\", \"DNT\":\"1\",\"Connection\":\"close\", \"Upgrade-Insecure-Requests\":\"1\"}\n",
    "\n",
    "page = requests.get(URL, headers=headers)\n",
    "\n",
    "soup1 = BeautifulSoup(page.content, \"html.parser\")\n",
    "\n",
    "soup2 = BeautifulSoup (soup1.prettify(), \"html.parser\")\n",
    "\n",
    "title = soup2.find('h1').get_text(strip=True)\n",
    "\n",
    "info_div= soup2.find('div', class_=\"block_info\")\n",
    "info_parts = info_div.find_all(['a', 'span'])\n",
    "information = \", \".join(part.get_text(strip=True) for part in info_parts)\n",
    "\n",
    "imdb_rating_divs = soup2.find_all('div', class_='wrapper_movies_scores_score')\n",
    "imdb_rating_text = imdb_rating_divs[1].find('div').get_text(strip=True)\n",
    "imdb_rating = f\"{imdb_rating_text} (IMDb)\"\n",
    "\n",
    "producer_div = soup2.find_all('div', class_='block_table')[1]\n",
    "producer=producer_div.find(['a']).get_text(strip=True)\n",
    "\n",
    "fees_div = soup2.find_all('div', class_='block_table')[5]\n",
    "fees_parts=fees_div.find_all(['span'])\n",
    "fees = \", \".join(part.get_text(strip=True) for part in fees_parts)\n",
    "\n",
    "plot = soup2.find('div', class_=\"wrapper_movies_text\").get_text(strip=True)\n",
    "\n",
    "interesting_facts = soup2.find('div', class_=\"wrapper_movies_text wrapper_movies_facts\").get_text(strip=True)\n",
    "\n",
    "print(title)\n",
    "print(information)\n",
    "print(imdb_rating)\n",
    "print(producer)\n",
    "print(fees)\n",
    "print(plot)\n",
    "print(interesting_facts)"
   ]
  },
  {
   "cell_type": "code",
   "execution_count": 40,
   "id": "249a6333",
   "metadata": {},
   "outputs": [
    {
     "name": "stdout",
     "output_type": "stream",
     "text": [
      "2023-08-30\n"
     ]
    }
   ],
   "source": [
    "# Create a Timestamp for my output to track when data was collected\n",
    "import datetime\n",
    "\n",
    "today = datetime.date.today()\n",
    "\n",
    "print(today)"
   ]
  },
  {
   "cell_type": "code",
   "execution_count": 41,
   "id": "44241e89",
   "metadata": {},
   "outputs": [
    {
     "name": "stdout",
     "output_type": "stream",
     "text": [
      "Requirement already satisfied: openpyxl in c:\\users\\anastasia sipatina\\anaconda3\\lib\\site-packages (3.0.10)\n",
      "Requirement already satisfied: et_xmlfile in c:\\users\\anastasia sipatina\\anaconda3\\lib\\site-packages (from openpyxl) (1.1.0)\n",
      "Note: you may need to restart the kernel to use updated packages.\n"
     ]
    }
   ],
   "source": [
    "pip install openpyxl"
   ]
  },
  {
   "cell_type": "code",
   "execution_count": 42,
   "id": "844ed961",
   "metadata": {},
   "outputs": [],
   "source": [
    "import pandas as pd\n",
    "\n",
    "data = [\n",
    "    [today, title, information, imdb_rating, producer, fees, plot, interesting_facts]\n",
    "]\n",
    "\n",
    "header = ['Data','Title', 'Information', 'Rating', 'Producer', 'Fees', 'Plot', 'Facts']\n",
    "\n",
    "df = pd.DataFrame(data, columns=header)\n",
    "\n",
    "excel_file_path = r'C:\\Users\\Anastasia Sipatina\\OppenheimerWebScraperDataset.xlsx'\n",
    "\n",
    "df.to_excel(excel_file_path, index=False, engine='openpyxl')\n"
   ]
  },
  {
   "cell_type": "code",
   "execution_count": 43,
   "id": "f7b096b3",
   "metadata": {},
   "outputs": [
    {
     "name": "stdout",
     "output_type": "stream",
     "text": [
      "        Data                    Title  \\\n",
      "0 2023-08-30  Оппенгеймер(фильм,2023)   \n",
      "\n",
      "                                         Information      Rating  \\\n",
      "0  2023, биографический, драма, исторический, США...  8.6 (IMDb)   \n",
      "\n",
      "          Producer                                    Fees  \\\n",
      "0  Кристофер Нолан  $432 600 000 (мир), $285 230 000 (США)   \n",
      "\n",
      "                                                Plot  \\\n",
      "0  Сюжет фильма развернётся в годы Второй мировой...   \n",
      "\n",
      "                                               Facts  \n",
      "0  Самый продолжительный фильм в карьере Кристофе...  \n"
     ]
    }
   ],
   "source": [
    "import pandas as pd\n",
    "\n",
    "excel_file_path = r'C:\\Users\\Anastasia Sipatina\\OppenheimerWebScraperDataset.xlsx'\n",
    "\n",
    "df = pd.read_excel(excel_file_path)\n",
    "\n",
    "print(df)"
   ]
  },
  {
   "cell_type": "code",
   "execution_count": 44,
   "id": "e86f9fdf",
   "metadata": {},
   "outputs": [
    {
     "name": "stdout",
     "output_type": "stream",
     "text": [
      "<class 'pandas.core.frame.DataFrame'>\n",
      "RangeIndex: 1 entries, 0 to 0\n",
      "Data columns (total 8 columns):\n",
      " #   Column       Non-Null Count  Dtype         \n",
      "---  ------       --------------  -----         \n",
      " 0   Data         1 non-null      datetime64[ns]\n",
      " 1   Title        1 non-null      object        \n",
      " 2   Information  1 non-null      object        \n",
      " 3   Rating       1 non-null      object        \n",
      " 4   Producer     1 non-null      object        \n",
      " 5   Fees         1 non-null      object        \n",
      " 6   Plot         1 non-null      object        \n",
      " 7   Facts        1 non-null      object        \n",
      "dtypes: datetime64[ns](1), object(7)\n",
      "memory usage: 196.0+ bytes\n"
     ]
    }
   ],
   "source": [
    "df.info()"
   ]
  },
  {
   "cell_type": "code",
   "execution_count": null,
   "id": "211b09ff",
   "metadata": {},
   "outputs": [],
   "source": []
  }
 ],
 "metadata": {
  "kernelspec": {
   "display_name": "Python 3 (ipykernel)",
   "language": "python",
   "name": "python3"
  },
  "language_info": {
   "codemirror_mode": {
    "name": "ipython",
    "version": 3
   },
   "file_extension": ".py",
   "mimetype": "text/x-python",
   "name": "python",
   "nbconvert_exporter": "python",
   "pygments_lexer": "ipython3",
   "version": "3.11.4"
  }
 },
 "nbformat": 4,
 "nbformat_minor": 5
}
